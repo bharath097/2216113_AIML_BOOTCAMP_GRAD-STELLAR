{
  "nbformat": 4,
  "nbformat_minor": 0,
  "metadata": {
    "colab": {
      "name": "DAY-3 (113)GRADSTELLAR BOOTCAMP.ipynb",
      "provenance": [],
      "include_colab_link": true
    },
    "kernelspec": {
      "name": "python3",
      "display_name": "Python 3"
    },
    "language_info": {
      "name": "python"
    }
  },
  "cells": [
    {
      "cell_type": "markdown",
      "metadata": {
        "id": "view-in-github",
        "colab_type": "text"
      },
      "source": [
        "<a href=\"https://colab.research.google.com/github/bharath097/2216113_AIML_BOOTCAMP_GRAD-STELLAR/blob/main/DAY_3_(113)GRADSTELLAR_BOOTCAMP.ipynb\" target=\"_parent\"><img src=\"https://colab.research.google.com/assets/colab-badge.svg\" alt=\"Open In Colab\"/></a>"
      ]
    },
    {
      "cell_type": "code",
      "source": [
        "#value error\n",
        "a='090 ABC'\n",
        "try:\n",
        "     print(int(a))\n",
        "except ValueError as e:\n",
        "   print(e)"
      ],
      "metadata": {
        "colab": {
          "base_uri": "https://localhost:8080/"
        },
        "id": "3OW2cTiwNU4y",
        "outputId": "d9f4788f-9665-4177-a75b-3dca27f6531b"
      },
      "execution_count": 1,
      "outputs": [
        {
          "output_type": "stream",
          "name": "stdout",
          "text": [
            "invalid literal for int() with base 10: '090 ABC'\n"
          ]
        }
      ]
    },
    {
      "cell_type": "code",
      "source": [
        "#class & object\n",
        "class co:\n",
        "  def subn(self,a,b):\n",
        "    return a-b\n",
        "  def addn(self,a,b):\n",
        "    return a+b\n",
        "obj=co()\n",
        "print(\"Addition of 2 numbers is\",obj.addn(20,200))\n",
        "print(\"sub of 2 numbers is\",obj.subn(200,3))"
      ],
      "metadata": {
        "id": "xj8kJxI-NkuM",
        "colab": {
          "base_uri": "https://localhost:8080/"
        },
        "outputId": "fd8f5ada-3020-4762-b23f-c43ad1f9f4af"
      },
      "execution_count": 3,
      "outputs": [
        {
          "output_type": "stream",
          "name": "stdout",
          "text": [
            "Addition of 2 numbers is 220\n",
            "sub of 2 numbers is 197\n"
          ]
        }
      ]
    },
    {
      "cell_type": "code",
      "source": [
        "class c1:\n",
        "  '''description'''\n",
        "  class_var=\"demonstrates class creation\"\n",
        "  def cm(self):\n",
        "    return\"method invocation\"\n",
        "  def __str__(self):\n",
        "    return \"return string to object\"\n",
        "obj1=c1()\n",
        "print(obj1.class_var)\n",
        "print(obj1.cm())\n",
        "print(obj1)"
      ],
      "metadata": {
        "colab": {
          "base_uri": "https://localhost:8080/"
        },
        "id": "XdVXAuOzuSlS",
        "outputId": "68250a10-47df-4cd8-b535-29aa02e41c28"
      },
      "execution_count": 4,
      "outputs": [
        {
          "output_type": "stream",
          "name": "stdout",
          "text": [
            "demonstrates class creation\n",
            "method invocation\n",
            "return string to object\n"
          ]
        }
      ]
    },
    {
      "cell_type": "markdown",
      "source": [
        "ASSIGMMENT QUESTION 1"
      ],
      "metadata": {
        "id": "ar9a_1bVxxMP"
      }
    },
    {
      "cell_type": "code",
      "source": [
        "class arth:\n",
        "  def subn(self,a,b):\n",
        "    return a+b\n",
        "  def addn(self,a,b):\n",
        "    return a-b\n",
        "  def mul(self,a,b):\n",
        "    return a*b\n",
        "  def div(self,a,b):\n",
        "    return a/b\n",
        "  def mo(self,a,b):\n",
        "    return a%b\n",
        "  def fl(self,a,b):\n",
        "    return a//b\n",
        "  def po(self,a,b):\n",
        "    return a**b\n",
        "obj=arth()\n",
        "print(\"Addition of 2 numbers is\",obj.addn(12,8))\n",
        "print(\"sub of 2 numbers is\",obj.subn(30,12))\n",
        "print(\"mul of 2 numbers is\",obj.mul(1,2))\n",
        "print(\"div of 2 numbers is\",obj.div(4,2))\n",
        "print(\"mo of 2 numbers is\",obj.subn(20,5))\n",
        "print(\"float div of 2 numbers is\",obj.subn(3,2))\n",
        "print(\"power of 2 numbers is\",obj.subn(10,5))"
      ],
      "metadata": {
        "colab": {
          "base_uri": "https://localhost:8080/"
        },
        "id": "9rETei7vx2Vq",
        "outputId": "f0df592f-a027-45df-87a0-0d9a21c8e891"
      },
      "execution_count": null,
      "outputs": [
        {
          "output_type": "stream",
          "name": "stdout",
          "text": [
            "Addition of 2 numbers is 4\n",
            "sub of 2 numbers is 42\n",
            "mul of 2 numbers is 2\n",
            "div of 2 numbers is 2.0\n",
            "mo of 2 numbers is 25\n",
            "float div of 2 numbers is 5\n",
            "power of 2 numbers is 15\n"
          ]
        }
      ]
    },
    {
      "cell_type": "code",
      "source": [
        "#inheritance\n",
        "\n",
        "#single\n",
        "class Animal:\n",
        "  def animal_sounds(self):\n",
        "    return \"makes sound \"\n",
        "class cat(Animal):\n",
        "  def cat_sound(self):\n",
        "    return self.animal_sounds()+\"MEOWWWW\"\n",
        "  def __str__(self):\n",
        "    return \"CAT\"\n",
        "\n",
        "catobj=cat()\n",
        "print(catobj,catobj.cat_sound())"
      ],
      "metadata": {
        "colab": {
          "base_uri": "https://localhost:8080/"
        },
        "id": "dVgL1fOcuaXD",
        "outputId": "82349420-f892-4d17-e3cd-7ef15c56247e"
      },
      "execution_count": 6,
      "outputs": [
        {
          "output_type": "stream",
          "name": "stdout",
          "text": [
            "CAT makes sound MEOWWWW\n"
          ]
        }
      ]
    },
    {
      "cell_type": "code",
      "source": [
        "#hierarchial\n",
        "class Animal:\n",
        "  def animal_sounds(self):\n",
        "    return \"makes sound\"\n",
        "class cat(Animal):\n",
        "  def cat_sound(self):\n",
        "    return self.animal_sounds()+\"MEOWWWW\"\n",
        "  def __str__(self):\n",
        "    return \"CAT\"\n",
        "class Dog(Animal):\n",
        "  def dog_sound(self):\n",
        "    return self.animal_sounds()+\"BO00\"\n",
        "  def __str__(self):\n",
        "    return \"DOG\"\n",
        "catobj=cat()\n",
        "print(catobj,catobj.cat_sound())\n",
        "dogobj=Dog()\n",
        "print(dogobj,dogobj.dog_sound())"
      ],
      "metadata": {
        "colab": {
          "base_uri": "https://localhost:8080/"
        },
        "id": "qZYoI_noucLR",
        "outputId": "66606ddd-c5ab-423f-e648-681a1d20a2c7"
      },
      "execution_count": null,
      "outputs": [
        {
          "output_type": "stream",
          "name": "stdout",
          "text": [
            "CAT makes soundMEOWWWW\n",
            "DOG makes soundBO00\n"
          ]
        }
      ]
    },
    {
      "cell_type": "code",
      "source": [
        "#multilevel inheritance \n",
        "class Animal:\n",
        "  def animal_sounds(self):\n",
        "    return \"makes sound\"\n",
        "class Cat(Animal):\n",
        "  def cat_sound(self):\n",
        "    return self.animal_sounds()+\"MEOW\"\n",
        "class CatColor(cat):\n",
        "  def __str__(self):\n",
        "    return \"CAT\"\n",
        "  def color(self):\n",
        "    return \"color is black\"\n",
        "catcolor=CatColor()\n",
        "print(catcolor,catcolor.cat_sound())\n",
        "print(catcolor,catcolor.color())"
      ],
      "metadata": {
        "colab": {
          "base_uri": "https://localhost:8080/"
        },
        "id": "Z6I30cEhucOF",
        "outputId": "834d5069-f413-446b-e234-0f392d3eb78d"
      },
      "execution_count": null,
      "outputs": [
        {
          "output_type": "stream",
          "name": "stdout",
          "text": [
            "CAT makes soundMEOWWWW\n",
            "CAT color is black\n"
          ]
        }
      ]
    },
    {
      "cell_type": "code",
      "source": [
        "class Animal:\n",
        "  def animal_sounds(self):\n",
        "    return \"makes sound\"\n",
        "class Dog(Animal):\n",
        "  def Dog_sound(self):\n",
        "    return self.animal_sounds()+\"BOWWW\"\n",
        "class DogColor(Dog):\n",
        "  def __str__(self):\n",
        "    return \"DOG\"\n",
        "  def color(self):\n",
        "    return \"color is WHITE\"\n",
        "dogcolor=DogColor()\n",
        "print(dogcolor,dogcolor.Dog_sound())\n",
        "print(dogcolor,dogcolor.color())"
      ],
      "metadata": {
        "colab": {
          "base_uri": "https://localhost:8080/"
        },
        "id": "Xv2NeL_pyxN1",
        "outputId": "0457fb2e-15c7-4e07-df9c-5bdd41ba5ba0"
      },
      "execution_count": null,
      "outputs": [
        {
          "output_type": "stream",
          "name": "stdout",
          "text": [
            "DOG makes soundBOWWW\n",
            "DOG color is WHITE\n"
          ]
        }
      ]
    },
    {
      "cell_type": "code",
      "source": [
        "#exceptions\n",
        "#name \n",
        "try:\n",
        "  print(x)\n",
        "except NameError as ne:\n",
        "  print(\"exception occurred\",ne)\n",
        "print(\"executed\")"
      ],
      "metadata": {
        "colab": {
          "base_uri": "https://localhost:8080/"
        },
        "id": "tfOu-38XupzF",
        "outputId": "8e845440-9473-499a-f471-f37f8234c4ee"
      },
      "execution_count": null,
      "outputs": [
        {
          "output_type": "stream",
          "name": "stdout",
          "text": [
            "exception occurred name 'x' is not defined\n",
            "executed\n"
          ]
        }
      ]
    },
    {
      "cell_type": "code",
      "source": [
        "#exception handing\n",
        "#2003\n",
        "class instud(Exception):\n",
        "  pass\n",
        "stid=input(\"enter student id=\")\n",
        "try:\n",
        "  if stid[:4]!=\"2005\":\n",
        "    raise instud\n",
        "except instud:\n",
        "  print(\"error raised due to invalid details\")\n",
        "print(\"details verified\") "
      ],
      "metadata": {
        "colab": {
          "base_uri": "https://localhost:8080/"
        },
        "id": "GPz4MQUju4Yx",
        "outputId": "152206c5-195f-4f14-f099-81cb60daa27b"
      },
      "execution_count": null,
      "outputs": [
        {
          "output_type": "stream",
          "name": "stdout",
          "text": [
            "enter student id=2004\n",
            "error raised due to invalid details\n",
            "details verified\n"
          ]
        }
      ]
    },
    {
      "cell_type": "code",
      "source": [
        "#exception handing\n",
        "#2003\n",
        "class instud(Exception):\n",
        "  pass\n",
        "stid=input(\"enter student id=\")\n",
        "try:\n",
        "  if stid[:4]!=\"2005\":\n",
        "    raise instud\n",
        "except instud:\n",
        "  print(\"error raised due to invalid details\")\n",
        "print(\"details verified\") "
      ],
      "metadata": {
        "colab": {
          "base_uri": "https://localhost:8080/"
        },
        "id": "lAZ5xaZdzON5",
        "outputId": "f07ee5ff-8c5b-47b9-8ef1-912278d50b7e"
      },
      "execution_count": null,
      "outputs": [
        {
          "output_type": "stream",
          "name": "stdout",
          "text": [
            "enter student id=2005\n",
            "details verified\n"
          ]
        }
      ]
    },
    {
      "cell_type": "code",
      "source": [
        "#assign question\n",
        "class vote(Exception):\n",
        "  pass\n",
        "age=input(\"enter  id=\")\n",
        "try:\n",
        "  if age[:4]<=\"18\":\n",
        "    raise vote\n",
        "except vote:\n",
        "  print(\"error raised due to invalid details\")\n",
        "print(\"You can vote\") "
      ],
      "metadata": {
        "colab": {
          "base_uri": "https://localhost:8080/"
        },
        "id": "ci2KO6uqzVCb",
        "outputId": "6e6641e7-e2de-4d0d-8662-8a7e68c8b17a"
      },
      "execution_count": null,
      "outputs": [
        {
          "output_type": "stream",
          "name": "stdout",
          "text": [
            "enter  id=23\n",
            "You can vote\n"
          ]
        }
      ]
    },
    {
      "cell_type": "code",
      "source": [
        "#implement exception handling for age of voter\n",
        "f=open(\"sample.txt\",\"x\")\n",
        "f=open(\"sample.txt\",\"w\")\n",
        "f.write(\"WELCOME\")\n",
        "f.close()\n",
        "f=open(\"sample.txt\",\"r\")\n",
        "print(f.read())\n",
        "f.close()"
      ],
      "metadata": {
        "colab": {
          "base_uri": "https://localhost:8080/"
        },
        "id": "YE3dh6cxvNdF",
        "outputId": "54d70884-74cb-4ed8-b90f-78262a5252fd"
      },
      "execution_count": null,
      "outputs": [
        {
          "output_type": "stream",
          "name": "stdout",
          "text": [
            "WELCOME\n"
          ]
        }
      ]
    },
    {
      "cell_type": "code",
      "source": [
        "import os\n",
        "os.remove(\"sample.txt\")"
      ],
      "metadata": {
        "id": "J7IdmkaYvd2g"
      },
      "execution_count": null,
      "outputs": []
    },
    {
      "cell_type": "code",
      "source": [
        "f=open(\"sample.txt\",\"x\")\n",
        "f.write(\"welcome\")\n",
        "f.close()"
      ],
      "metadata": {
        "id": "JjaPYMedz9b2"
      },
      "execution_count": null,
      "outputs": []
    },
    {
      "cell_type": "code",
      "source": [
        "f=open(\"sample.txt\",\"r\")\n",
        "print(f.read(4))\n",
        "print(f.tell())\n",
        "print(f.seek(6))\n",
        "print(f.seek(0))\n",
        "print(f.readline())\n",
        "print(f.readlines())\n",
        "f.close()"
      ],
      "metadata": {
        "colab": {
          "base_uri": "https://localhost:8080/"
        },
        "id": "_OIye3j_0BcE",
        "outputId": "0505c660-5f27-4701-ba6c-dd8452aaccce"
      },
      "execution_count": null,
      "outputs": [
        {
          "output_type": "stream",
          "name": "stdout",
          "text": [
            "welc\n",
            "4\n",
            "6\n",
            "0\n",
            "welcome\n",
            "[]\n"
          ]
        }
      ]
    },
    {
      "cell_type": "code",
      "source": [
        "#pickle\n",
        "import pickle\n",
        "myl=['a','b','c','d']\n",
        "f4=open(\"datafile1.txt\",\"wb\")\n",
        "pickle.dump(myl,f4)\n",
        "f4.close()\n",
        "\n",
        "#unpickling\n",
        "import pickle\n",
        "picke_off=open(\"datafile1.txt\",\"rb\")\n",
        "e=pickle.load(picke_off)\n",
        "print(e)"
      ],
      "metadata": {
        "colab": {
          "base_uri": "https://localhost:8080/"
        },
        "id": "IKBT_qqjvytR",
        "outputId": "685bc5f1-6642-4228-eb6d-1cf7a002b82d"
      },
      "execution_count": null,
      "outputs": [
        {
          "output_type": "stream",
          "name": "stdout",
          "text": [
            "['a', 'b', 'c', 'd']\n"
          ]
        }
      ]
    },
    {
      "cell_type": "code",
      "source": [
        "#regular expressions\n",
        "import re\n",
        "pattern=r\"BHARATH\"\n",
        "sequence=(\"CHANDRA\")\n",
        "if re.match(pattern,sequence):\n",
        "  print(\"MATCHING\")\n",
        "else:\n",
        "  print(\"NOT A MATCH\")\n",
        "  "
      ],
      "metadata": {
        "colab": {
          "base_uri": "https://localhost:8080/"
        },
        "id": "Ney_J22IwDJ_",
        "outputId": "75d7e11d-3c76-4611-adca-615fd70dabc6"
      },
      "execution_count": 7,
      "outputs": [
        {
          "output_type": "stream",
          "name": "stdout",
          "text": [
            "NOT A MATCH\n"
          ]
        }
      ]
    },
    {
      "cell_type": "code",
      "source": [
        "import re\n",
        "phone=input(\"Enter a number=\")\n",
        "print(re.search(r'\\d{10}',phone).group())"
      ],
      "metadata": {
        "colab": {
          "base_uri": "https://localhost:8080/"
        },
        "id": "FmvAZepwwHl8",
        "outputId": "6b673b9b-6f04-4d65-96f0-1894955dd5a1"
      },
      "execution_count": null,
      "outputs": [
        {
          "output_type": "stream",
          "name": "stdout",
          "text": [
            "Enter a number=8008648768\n",
            "8008648768\n"
          ]
        }
      ]
    },
    {
      "cell_type": "code",
      "source": [
        "import re\n",
        "mail=input(\"enter a mail\")\n",
        "str1=r'[A-Za-z0-9._-]+@[A-Za-z0-9.-]+[A-Z|a-z]{2,}'\n",
        "print(re.search(str1,mail).group())"
      ],
      "metadata": {
        "colab": {
          "base_uri": "https://localhost:8080/"
        },
        "id": "y_k6SiClwMfJ",
        "outputId": "1b790e70-d9d2-4105-8d25-6aa6a935eeb7"
      },
      "execution_count": 8,
      "outputs": [
        {
          "output_type": "stream",
          "name": "stdout",
          "text": [
            "enter a mailbharathncb8@gmail.com\n",
            "bharathncb8@gmail.com\n"
          ]
        }
      ]
    }
  ]
}