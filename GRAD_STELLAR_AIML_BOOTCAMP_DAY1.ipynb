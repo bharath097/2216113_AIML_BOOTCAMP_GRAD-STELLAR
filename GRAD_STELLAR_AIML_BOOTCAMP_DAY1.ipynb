{
  "nbformat": 4,
  "nbformat_minor": 0,
  "metadata": {
    "colab": {
      "name": "GRAD STELLAR AIML BOOTCAMP DAY1.ipynb",
      "provenance": [],
      "collapsed_sections": [],
      "authorship_tag": "ABX9TyNTIw+hdylP8Mwd7yn2iPt7",
      "include_colab_link": true
    },
    "kernelspec": {
      "name": "python3",
      "display_name": "Python 3"
    },
    "language_info": {
      "name": "python"
    }
  },
  "cells": [
    {
      "cell_type": "markdown",
      "metadata": {
        "id": "view-in-github",
        "colab_type": "text"
      },
      "source": [
        "<a href=\"https://colab.research.google.com/github/bharath097/2216113_AIML_BOOTCAMP_GRAD-STELLAR/blob/main/GRAD_STELLAR_AIML_BOOTCAMP_DAY1.ipynb\" target=\"_parent\"><img src=\"https://colab.research.google.com/assets/colab-badge.svg\" alt=\"Open In Colab\"/></a>"
      ]
    },
    {
      "cell_type": "markdown",
      "source": [
        "1. Implement the methods of String with examples."
      ],
      "metadata": {
        "id": "Uvj3KdANEG-r"
      }
    },
    {
      "cell_type": "code",
      "source": [
        "#creating and printing a string\n",
        "str=\"bharathchandra\"\n",
        "print(str)\n",
        "print(\"\\n\")\n",
        "#string operations\n",
        "\n",
        "#capitalize\n",
        "a=str.capitalize()\n",
        "print(a)\n",
        "print(\"\\n\")\n",
        "str2=\"pYtHON\"\n",
        "\n",
        "#casefold\n",
        "b=str2.casefold()\n",
        "print(b)\n",
        "print(\"\\n\")\n",
        "\n",
        "#count\n",
        "str3 = \"Mercedes have premium cars,Mercedes make awesome engines\"\n",
        "str3.count(\"Mercedes\")\n",
        "\n",
        "#index\n",
        "str4=\"MErcedes\"\n",
        "c = str4.index(\"r\")\n",
        "print(c)\n",
        "print(\"\\n\")\n",
        "\n",
        "#upper\n",
        "d=str4.upper()\n",
        "print(d)\n",
        "print(\"\\n\")\n",
        "\n",
        "#lower\n",
        "e=str4.lower()\n",
        "print(e)\n",
        "print(\"\\n\")\n",
        "\n",
        "#swapcase\n",
        "f=str4.swapcase()\n",
        "print(f)\n",
        "print(\"\\n\")\n",
        "\n",
        "#string reverse\n",
        "a1=\"bootccamp\"\n",
        "b1=a1[::-1]\n",
        "print(b1)\n",
        "print(\"\\n\")\n",
        "\n",
        "a2=\"python\"[::-1]\n",
        "print(a2)\n",
        "print(\"\\n\")\n",
        "\n",
        "#using function\n",
        "def strrev(a3): \n",
        "  return a3[::-1]\n",
        "b3=strrev(\"Mercedes Benz\")\n",
        "print(b3)"
      ],
      "metadata": {
        "colab": {
          "base_uri": "https://localhost:8080/"
        },
        "id": "pKeMO6aIEMjR",
        "outputId": "2c432210-39e6-4531-f395-f392c5315ef3"
      },
      "execution_count": null,
      "outputs": [
        {
          "output_type": "stream",
          "name": "stdout",
          "text": [
            "bharathchandra\n",
            "\n",
            "\n",
            "Bharathchandra\n",
            "\n",
            "\n",
            "python\n",
            "\n",
            "\n",
            "2\n",
            "\n",
            "\n",
            "MERCEDES\n",
            "\n",
            "\n",
            "mercedes\n",
            "\n",
            "\n",
            "meRCEDES\n",
            "\n",
            "\n",
            "pmacctoob\n",
            "\n",
            "\n",
            "nohtyp\n",
            "\n",
            "\n",
            "zneB sedecreM\n"
          ]
        }
      ]
    },
    {
      "cell_type": "markdown",
      "source": [
        " 2.Implement the methods of List with examples."
      ],
      "metadata": {
        "id": "vDKSAqPhWExG"
      }
    },
    {
      "cell_type": "code",
      "source": [
        "#list operations\n",
        "#create\n",
        "alist=[5,2,0,9,7]\n",
        "blist=['l','e','x','u','s']\n",
        "clist=['d','r','a','g','o','n']\n",
        "\n",
        "#indexing\n",
        "print(alist[4])\n",
        "print(blist[2])\n",
        "print(clist[1])\n",
        "print(\"\\n\")\n",
        "#slicing\n",
        "print(blist[3:5])\n",
        "print(\"\\n\")\n",
        "#nested list \n",
        "mlist=[\"gle\",[1.2,1.5,2,5],['a','b','c'],8]\n",
        "print(mlist[0][2])\n",
        "print(mlist[1][2])\n",
        "print(mlist[2][1])\n",
        "print(mlist[3])\n",
        "print(\"\\n\")\n",
        "\n",
        "my_list = ['a','b','c','d','e']\n",
        "\n",
        "# last item\n",
        "print(my_list[-1])\n",
        "\n",
        "# third last item\n",
        "print(my_list[-3])\n",
        "\n",
        "\n",
        "my_list = ['t','o','y','o','t','a','s','u','p','r','a']\n",
        "\n",
        "# elements from index 1 to index 3\n",
        "print(my_list[2:5])\n",
        "print(\"\\n\")\n",
        "# elements from index 4 to end\n",
        "print(my_list[4:])\n",
        "print(\"\\n\")\n",
        "# elements beginning to end\n",
        "print(my_list[:])\n",
        "print(\"\\n\")\n",
        "#append\n",
        "oddo = [5, 7, 9]\n",
        "\n",
        "oddo.append(11)\n",
        "\n",
        "print(oddo)\n",
        "print(\"\\n\")\n",
        "oddo.extend([11, 13, 15])\n",
        "\n",
        "print(oddo)\n",
        "print(\"\\n\")\n",
        "eng = ['turbo', 'nline', 'vtec']\n",
        "\n",
        "print(eng + ['crdi','tcdi'])\n",
        "print(\"\\n\")\n",
        "print([\"NA\"] * 5)\n",
        "print(\"\\n\")\n",
        "eng.insert(3,4)\n",
        "\n",
        "print(eng)\n",
        "print(\"\\n\")\n",
        "my_list = ['n', 'b', 'h', 'a', 'r', 'a', 't','h']\n",
        "\n",
        "# delete one item\n",
        "del my_list[2]\n",
        "\n",
        "print(my_list)\n",
        "print(\"\\n\")\n",
        "# delete multiple items\n",
        "del my_list[1:5]\n",
        "\n",
        "print(my_list)\n",
        "print(\"\\n\")\n",
        "# delete the entire list\n",
        "del my_list\n",
        "\n",
        "my_list = ['c','h','e','v','y']\n",
        "my_list.remove('v')\n",
        "\n",
        "\n",
        "print(my_list)\n",
        "print(\"\\n\")\n",
        "print(my_list.pop(1))\n",
        "print(\"\\n\")\n",
        "\n",
        "print(my_list)\n",
        "print(\"\\n\")\n",
        "\n",
        "print(my_list.pop())\n",
        "print(\"\\n\")\n",
        "\n",
        "print(my_list)\n",
        "print(\"\\n\")\n",
        "my_list.clear()\n",
        "print(my_list)\n",
        "print(\"\\n\")"
      ],
      "metadata": {
        "colab": {
          "base_uri": "https://localhost:8080/"
        },
        "id": "gq839iXjWP1m",
        "outputId": "c8cff33d-5a72-4a13-ea40-f9be40c609e0"
      },
      "execution_count": 14,
      "outputs": [
        {
          "output_type": "stream",
          "name": "stdout",
          "text": [
            "7\n",
            "x\n",
            "r\n",
            "\n",
            "\n",
            "['u', 's']\n",
            "\n",
            "\n",
            "e\n",
            "2\n",
            "b\n",
            "8\n",
            "\n",
            "\n",
            "e\n",
            "c\n",
            "['y', 'o', 't']\n",
            "\n",
            "\n",
            "['t', 'a', 's', 'u', 'p', 'r', 'a']\n",
            "\n",
            "\n",
            "['t', 'o', 'y', 'o', 't', 'a', 's', 'u', 'p', 'r', 'a']\n",
            "\n",
            "\n",
            "[5, 7, 9, 11]\n",
            "\n",
            "\n",
            "[5, 7, 9, 11, 11, 13, 15]\n",
            "\n",
            "\n",
            "['turbo', 'nline', 'vtec', 'crdi', 'tcdi']\n",
            "\n",
            "\n",
            "['NA', 'NA', 'NA', 'NA', 'NA']\n",
            "\n",
            "\n",
            "['turbo', 'nline', 'vtec', 4]\n",
            "\n",
            "\n",
            "['n', 'b', 'a', 'r', 'a', 't', 'h']\n",
            "\n",
            "\n",
            "['n', 't', 'h']\n",
            "\n",
            "\n",
            "['c', 'h', 'e', 'y']\n",
            "\n",
            "\n",
            "h\n",
            "\n",
            "\n",
            "['c', 'e', 'y']\n",
            "\n",
            "\n",
            "y\n",
            "\n",
            "\n",
            "['c', 'e']\n",
            "\n",
            "\n",
            "[]\n",
            "\n",
            "\n"
          ]
        }
      ]
    },
    {
      "cell_type": "markdown",
      "source": [
        "3.Implement the methods of Tuple with examples."
      ],
      "metadata": {
        "id": "ly3Bi-z1F4es"
      }
    },
    {
      "cell_type": "code",
      "source": [
        "a_tuple = ()\n",
        "print(a_tuple)\n",
        "print(\"\\n\")\n",
        "\n",
        "a_tuple = (1, 2, 3)\n",
        "print(a_tuple)\n",
        "\n",
        "print(\"\\n\")\n",
        "a_tuple = (\"a\", \"v\",\"e\",\"o\",1.2)\n",
        "print(a_tuple)\n",
        "print(\"\\n\")\n",
        "\n",
        "a_tuple = (\"uva\",\"p\", [1,9], (4, 6, 76),9,0)\n",
        "print(a_tuple)\n",
        "print(\"\\n\")\n",
        "print(\"\\n\")\n",
        "print(a_tuple[0])\n",
        "print(\"\\n\")\n",
        "print(a_tuple[3])\n",
        "print(\"\\n\")\n",
        "print(a_tuple[2])\n",
        "\n",
        "print(a_tuple[-1])\n",
        "\n",
        "print(a_tuple[-6])\n",
        "\n",
        "print(a_tuple.count('p'))  \n",
        "\n",
        "print(a_tuple.index('uva'))\n",
        "\n",
        "del a_tuple\n"
      ],
      "metadata": {
        "colab": {
          "base_uri": "https://localhost:8080/"
        },
        "id": "yObD8a0xEBlC",
        "outputId": "e029704a-ca77-4ddb-fb91-7d24ef80d974"
      },
      "execution_count": 24,
      "outputs": [
        {
          "output_type": "stream",
          "name": "stdout",
          "text": [
            "()\n",
            "\n",
            "\n",
            "(1, 2, 3)\n",
            "\n",
            "\n",
            "('a', 'v', 'e', 'o', 1.2)\n",
            "\n",
            "\n",
            "('uva', 'p', [1, 9], (4, 6, 76), 9, 0)\n",
            "\n",
            "\n",
            "\n",
            "\n",
            "uva\n",
            "\n",
            "\n",
            "(4, 6, 76)\n",
            "\n",
            "\n",
            "[1, 9]\n",
            "0\n",
            "uva\n",
            "1\n",
            "0\n"
          ]
        }
      ]
    },
    {
      "cell_type": "markdown",
      "source": [
        "4.Implement the methods of Dictionary with examples."
      ],
      "metadata": {
        "id": "6pLHc64WF8Zn"
      }
    },
    {
      "cell_type": "code",
      "source": [
        "my_dict = {'transmission': 'dc', 'shifts': 5,'fuel':'p'}\n",
        "\n",
        "\n",
        "print(my_dict['transmission'])\n",
        "\n",
        "\n",
        "print(my_dict.get('shifts'))\n",
        "\n",
        "\n",
        "print(my_dict.get('fuel'))"
      ],
      "metadata": {
        "colab": {
          "base_uri": "https://localhost:8080/"
        },
        "id": "2yQ6glkWF8Li",
        "outputId": "4815a9e3-5db1-4de3-b52b-47c3ef3fcd8f"
      },
      "execution_count": 26,
      "outputs": [
        {
          "output_type": "stream",
          "name": "stdout",
          "text": [
            "dc\n",
            "5\n",
            "p\n"
          ]
        }
      ]
    },
    {
      "cell_type": "code",
      "source": [
        "# Changing and adding Dictionary Elements\n",
        "my_dict = {'transmission': 'dc', 'shifts': 5,'fuel':'p'}\n",
        "\n",
        "my_dict['fuel'] = 'd'\n",
        "\n",
        "print(my_dict)\n",
        "\n",
        "\n",
        "my_dict['transmission'] = 'cvt'\n",
        "\n",
        "\n",
        "print(my_dict)"
      ],
      "metadata": {
        "colab": {
          "base_uri": "https://localhost:8080/"
        },
        "id": "sb8MCaK-Gfo2",
        "outputId": "235c47df-de4f-4d5f-ba17-4226aa465302"
      },
      "execution_count": 27,
      "outputs": [
        {
          "output_type": "stream",
          "name": "stdout",
          "text": [
            "{'transmission': 'dc', 'shifts': 5, 'fuel': 'd'}\n",
            "{'transmission': 'cvt', 'shifts': 5, 'fuel': 'd'}\n"
          ]
        }
      ]
    },
    {
      "cell_type": "code",
      "source": [
        "dict={'name':'bharath','branch':'CSE(AIML)','year':2,'address':'wgl','college':'SR'}\n",
        "print(dict['name'])\n",
        "print(dict.keys())\n",
        "print(dict.values())\n",
        "print(dict.get('name'))\n",
        "#add iteam\n",
        "dict['firstname']='n' \n",
        "print(dict)\n",
        "dict['college']='SRU' #update value\n",
        "print(dict)\n",
        "dict.pop('address') #remove particular item\n",
        "print(dict)\n",
        "dict.popitem() #remove an item from last\n",
        "print(dict)\n",
        "dict.clear() # clear enter dict\n",
        "print(dict)"
      ],
      "metadata": {
        "colab": {
          "base_uri": "https://localhost:8080/"
        },
        "id": "IyYqyt8nG1ft",
        "outputId": "b7abbaaf-3a86-41a0-d4a7-463ff468ba75"
      },
      "execution_count": 29,
      "outputs": [
        {
          "output_type": "stream",
          "name": "stdout",
          "text": [
            "bharath\n",
            "dict_keys(['name', 'branch', 'year', 'address', 'college'])\n",
            "dict_values(['bharath', 'CSE(AIML)', 2, 'wgl', 'SR'])\n",
            "bharath\n",
            "{'name': 'bharath', 'branch': 'CSE(AIML)', 'year': 2, 'address': 'wgl', 'college': 'SR', 'firstname': 'n'}\n",
            "{'name': 'bharath', 'branch': 'CSE(AIML)', 'year': 2, 'address': 'wgl', 'college': 'SRU', 'firstname': 'n'}\n",
            "{'name': 'bharath', 'branch': 'CSE(AIML)', 'year': 2, 'college': 'SRU', 'firstname': 'n'}\n",
            "{'name': 'bharath', 'branch': 'CSE(AIML)', 'year': 2, 'college': 'SRU'}\n",
            "{}\n"
          ]
        }
      ]
    },
    {
      "cell_type": "code",
      "source": [
        "set1={2,0,3,5,2,0,9,7}\n",
        "set2={8,4,10,6,11,12,13,15}\n",
        "\n",
        "set1.add(99)\n",
        "print(set1)\n",
        "\n",
        "set1.update([12,13,14])\n",
        "print(set1)\n",
        "\n",
        "set1.discard(14)\n",
        "print(set1)\n",
        "\n",
        "set1.remove(0)\n",
        "print(set1)\n",
        "\n",
        "set1.copy()\n",
        "print(set1)\n",
        "\n",
        "set1.difference()\n",
        "print(set1)\n",
        "\n",
        "print(set1)\n",
        "\n",
        "#union\n",
        "print(set1.union(set2))\n",
        "\n",
        "#intersection\n",
        "print(set1.intersection(set2))\n",
        "\n",
        "#difference\n",
        "print(set1-set2)\n",
        "print(set2-set1)\n",
        "set1.pop()\n",
        "print(set1)"
      ],
      "metadata": {
        "colab": {
          "base_uri": "https://localhost:8080/"
        },
        "id": "259TZAewHYlq",
        "outputId": "70a76634-83a7-485b-c734-ffbf293e4cd7"
      },
      "execution_count": 32,
      "outputs": [
        {
          "output_type": "stream",
          "name": "stdout",
          "text": [
            "{0, 2, 3, 99, 5, 7, 9}\n",
            "{0, 2, 3, 99, 5, 7, 9, 12, 13, 14}\n",
            "{0, 2, 3, 99, 5, 7, 9, 12, 13}\n",
            "{2, 3, 99, 5, 7, 9, 12, 13}\n",
            "{2, 3, 99, 5, 7, 9, 12, 13}\n",
            "{2, 3, 99, 5, 7, 9, 12, 13}\n",
            "{2, 3, 99, 5, 7, 9, 12, 13}\n",
            "{2, 3, 99, 5, 4, 7, 6, 9, 8, 10, 12, 13, 11, 15}\n",
            "{12, 13}\n",
            "{2, 99, 3, 5, 7, 9}\n",
            "{4, 6, 8, 10, 11, 15}\n",
            "{3, 99, 5, 7, 9, 12, 13}\n"
          ]
        }
      ]
    },
    {
      "cell_type": "markdown",
      "source": [
        "6.Write a python program to convert Decimal to Binary, Octal and Hexadecimal with direct method"
      ],
      "metadata": {
        "id": "2nvkLEWWH6mb"
      }
    },
    {
      "cell_type": "code",
      "source": [
        "print(bin(97))\n",
        "print(oct(97))\n",
        "print(hex(97))"
      ],
      "metadata": {
        "colab": {
          "base_uri": "https://localhost:8080/"
        },
        "id": "POgHePKfH2zG",
        "outputId": "d60ee581-b6dc-4a13-f4da-2c0ab302bb86"
      },
      "execution_count": 37,
      "outputs": [
        {
          "output_type": "stream",
          "name": "stdout",
          "text": [
            "0b1100001\n",
            "0o141\n",
            "0x61\n"
          ]
        }
      ]
    },
    {
      "cell_type": "markdown",
      "source": [
        "7.Implement Arithmetic operators with examples."
      ],
      "metadata": {
        "id": "1tylrMmEIPfK"
      }
    },
    {
      "cell_type": "code",
      "source": [
        "A=90\n",
        "B=3\n",
        "\n",
        "print(A+B)\n",
        "\n",
        "print(A-B)\n",
        "\n",
        "print(A*B)\n",
        "\n",
        "print(A/B)\n",
        "\n",
        "print(A%B)\n",
        "\n",
        "print(A**B)\n",
        "\n",
        "print(A//B)"
      ],
      "metadata": {
        "colab": {
          "base_uri": "https://localhost:8080/"
        },
        "id": "NNwVUI7qIQKo",
        "outputId": "438c9f9d-cd64-455a-df64-ab4320081c1f"
      },
      "execution_count": 38,
      "outputs": [
        {
          "output_type": "stream",
          "name": "stdout",
          "text": [
            "93\n",
            "87\n",
            "270\n",
            "30.0\n",
            "0\n",
            "729000\n",
            "30\n"
          ]
        }
      ]
    },
    {
      "cell_type": "markdown",
      "source": [
        ""
      ],
      "metadata": {
        "id": "hcl-a7j8IXmL"
      }
    },
    {
      "cell_type": "markdown",
      "source": [
        "8.Implement Assignment operators with examples."
      ],
      "metadata": {
        "id": "uMeaHmwTIaDg"
      }
    },
    {
      "cell_type": "code",
      "source": [
        "n=97\n",
        "b=86\n",
        "\n",
        "c=n+b\n",
        "print(c)\n",
        "\n",
        "c+=n\n",
        "print(c)\n",
        "\n",
        "c-=n\n",
        "print(c)\n",
        "\n",
        "c*=n\n",
        "print(c)\n",
        "\n",
        "c/=n\n",
        "print(c)\n",
        "\n",
        "c=2\n",
        "c%=n\n",
        "print(c)\n",
        "\n",
        "c**=n\n",
        "print(c)\n",
        "\n",
        "c//=n\n",
        "print(c)"
      ],
      "metadata": {
        "colab": {
          "base_uri": "https://localhost:8080/"
        },
        "id": "169uh7m7IXRV",
        "outputId": "049b5fb2-2cbf-487e-caa3-322814d3a3b5"
      },
      "execution_count": 41,
      "outputs": [
        {
          "output_type": "stream",
          "name": "stdout",
          "text": [
            "183\n",
            "280\n",
            "183\n",
            "17751\n",
            "183.0\n",
            "2\n",
            "158456325028528675187087900672\n",
            "1633570361118852321516370110\n"
          ]
        }
      ]
    },
    {
      "cell_type": "markdown",
      "source": [
        "9.Implement Comparison operators with examples."
      ],
      "metadata": {
        "id": "WQt-5UzhIxte"
      }
    },
    {
      "cell_type": "code",
      "source": [
        "a=97\n",
        "b=86\n",
        "print(a==b)\n",
        "print(a!=b)\n",
        "print(a>b)\n",
        "print(a<b)\n",
        "print(a>=b)\n",
        "print(a<=b)"
      ],
      "metadata": {
        "colab": {
          "base_uri": "https://localhost:8080/"
        },
        "id": "1urSKSNfIySC",
        "outputId": "79f4f61a-8e29-4831-905c-7ddfa11a21a5"
      },
      "execution_count": 42,
      "outputs": [
        {
          "output_type": "stream",
          "name": "stdout",
          "text": [
            "False\n",
            "True\n",
            "True\n",
            "False\n",
            "True\n",
            "False\n"
          ]
        }
      ]
    },
    {
      "cell_type": "markdown",
      "source": [
        "10.Implement Logical operators with examples"
      ],
      "metadata": {
        "id": "-FfaD_AFI8We"
      }
    },
    {
      "cell_type": "code",
      "source": [
        "a=1\n",
        "b=0\n",
        "print(a and b)\n",
        "print(a or b)\n",
        "print(not a)\n",
        "print(not b)"
      ],
      "metadata": {
        "colab": {
          "base_uri": "https://localhost:8080/"
        },
        "id": "gnpQp1HrI-iw",
        "outputId": "2e886376-e7f1-4195-bfec-68b3669aa004"
      },
      "execution_count": 43,
      "outputs": [
        {
          "output_type": "stream",
          "name": "stdout",
          "text": [
            "0\n",
            "1\n",
            "False\n",
            "True\n"
          ]
        }
      ]
    },
    {
      "cell_type": "markdown",
      "source": [
        "11.Implement Bitwise operators with examples"
      ],
      "metadata": {
        "id": "8Aom-jGIJJHD"
      }
    },
    {
      "cell_type": "code",
      "source": [
        "a=97\n",
        "b=86\n",
        "print(a&b)\n",
        "print(a^b)\n",
        "print(a|b)\n",
        "print(~a)\n",
        "print(a>>2)\n",
        "print(a<<2)"
      ],
      "metadata": {
        "colab": {
          "base_uri": "https://localhost:8080/"
        },
        "id": "_FhzhqOlJJuZ",
        "outputId": "a6d3c4f5-a0e8-48ad-e5d5-f9a6d6abfdea"
      },
      "execution_count": 44,
      "outputs": [
        {
          "output_type": "stream",
          "name": "stdout",
          "text": [
            "64\n",
            "55\n",
            "119\n",
            "-98\n",
            "24\n",
            "388\n"
          ]
        }
      ]
    },
    {
      "cell_type": "markdown",
      "source": [
        "12.Implement Membership operators with examples"
      ],
      "metadata": {
        "id": "Qo1Aba5NJRd_"
      }
    },
    {
      "cell_type": "code",
      "source": [
        "n=[2,0,9,7]\n",
        "b={'aveo',1,2,5,'uva'}\n",
        "print(9 in n)\n",
        "print('hi' in b)\n",
        "print(100 in n)\n",
        "print('b' not in b)"
      ],
      "metadata": {
        "colab": {
          "base_uri": "https://localhost:8080/"
        },
        "id": "_v6ufddPJTjV",
        "outputId": "548303e3-aade-4dc5-c9ea-a03b385f6fe9"
      },
      "execution_count": 48,
      "outputs": [
        {
          "output_type": "stream",
          "name": "stdout",
          "text": [
            "True\n",
            "False\n",
            "False\n",
            "True\n"
          ]
        }
      ]
    },
    {
      "cell_type": "markdown",
      "source": [
        "13.Implement Identity operators with examples"
      ],
      "metadata": {
        "id": "bSIOAKJMJube"
      }
    },
    {
      "cell_type": "code",
      "source": [
        "n=9\n",
        "b=7\n",
        "x='i'\n",
        "y='c'\n",
        "print(n is b)\n",
        "print(n is not b)\n",
        "print(x is y)\n",
        "print(x is not y)"
      ],
      "metadata": {
        "colab": {
          "base_uri": "https://localhost:8080/"
        },
        "id": "QYhqWgoEJvPN",
        "outputId": "f9af0b73-2cd3-4cab-c45d-1c88f809b38e"
      },
      "execution_count": 49,
      "outputs": [
        {
          "output_type": "stream",
          "name": "stdout",
          "text": [
            "False\n",
            "True\n",
            "False\n",
            "True\n"
          ]
        }
      ]
    },
    {
      "cell_type": "markdown",
      "source": [
        "14.demonstrate Negative indexing for List and apply slicing"
      ],
      "metadata": {
        "id": "kplyTMVcKtBp"
      }
    },
    {
      "cell_type": "code",
      "source": [
        "list=[77,9,5,4,6,8.5,100]\n",
        "print(list[-1])\n",
        "print(list[-4])\n",
        "print(list[-5:-1])\n",
        "print(list[-6::])\n",
        "print(list[::-1])\n",
        "print(list[::])\n",
        "print(list[-7::5])"
      ],
      "metadata": {
        "colab": {
          "base_uri": "https://localhost:8080/"
        },
        "id": "-bvDogRBKt6P",
        "outputId": "95da5ce2-9725-443a-fd03-4fa57b37d8d3"
      },
      "execution_count": 52,
      "outputs": [
        {
          "output_type": "stream",
          "name": "stdout",
          "text": [
            "100\n",
            "4\n",
            "[5, 4, 6, 8.5]\n",
            "[9, 5, 4, 6, 8.5, 100]\n",
            "[100, 8.5, 6, 4, 5, 9, 77]\n",
            "[77, 9, 5, 4, 6, 8.5, 100]\n",
            "[77, 8.5]\n"
          ]
        }
      ]
    },
    {
      "cell_type": "markdown",
      "source": [
        "15.Predict the output for the given code snippet and justify the result."
      ],
      "metadata": {
        "id": "jN157zuaL1pF"
      }
    },
    {
      "cell_type": "code",
      "source": [
        "print('A series of characters designated as one object known as a string'[::-1][4::3])\n",
        "#[::-1] reverse the whole string and [4::3] reads the string from index 4 and indexjump to the value 3\n",
        "print(\"-------------------------\")\n",
        "print('Welcome to python training program'[3:10][::-1])\n",
        "#[3:10] it starts from 3index and stops at 10index  [::-1]the it will reverse the string"
      ],
      "metadata": {
        "colab": {
          "base_uri": "https://localhost:8080/"
        },
        "id": "NbAi3vMYL4Yp",
        "outputId": "94a4ab48-380a-4eee-a3aa-407486e10c6e"
      },
      "execution_count": 53,
      "outputs": [
        {
          "output_type": "stream",
          "name": "stdout",
          "text": [
            "taawkcbe  tgestrcoeeA\n",
            "-------------------------\n",
            "ot emoc\n"
          ]
        }
      ]
    },
    {
      "cell_type": "markdown",
      "source": [
        "16.Write a python code to get desired output Input string:p_phrase=\"was it a car or a cat I saw\" Output string: WAS I TAC A RO RAC A TI SAW."
      ],
      "metadata": {
        "id": "vbvvTP7lMKnR"
      }
    },
    {
      "cell_type": "code",
      "source": [
        "p_phrase=\"was it a car or a cat I saw\"\n",
        "str=p_phrase.upper()\n",
        "print(str[::-1])"
      ],
      "metadata": {
        "colab": {
          "base_uri": "https://localhost:8080/"
        },
        "id": "q_NBUeybMNo9",
        "outputId": "854e9cf1-9d30-445d-d64c-e9415f68a77a"
      },
      "execution_count": 54,
      "outputs": [
        {
          "output_type": "stream",
          "name": "stdout",
          "text": [
            "WAS I TAC A RO RAC A TI SAW\n"
          ]
        }
      ]
    },
    {
      "cell_type": "markdown",
      "source": [
        "17.You are required to generate a word similar to ZOO, X and Y that denote the number of Zs and Os respectively. The generated word similar to ZOO where Y= 2 * X. Input X= 2 Output ZZOOOO Input X= 5 Output ZZZZZOOOOOOOOOO"
      ],
      "metadata": {
        "id": "2c7UJnIEMUy5"
      }
    },
    {
      "cell_type": "code",
      "source": [
        "x=int(input(\"Enter x value\"))\n",
        "y=2*x\n",
        "print('x=',x)\n",
        "print('y=',y)\n",
        "print('Z'*x,'O'*y,sep='')"
      ],
      "metadata": {
        "colab": {
          "base_uri": "https://localhost:8080/"
        },
        "id": "q_wGg49IMW24",
        "outputId": "e274d0aa-f063-48bb-80e1-663037e4b97e"
      },
      "execution_count": 59,
      "outputs": [
        {
          "output_type": "stream",
          "name": "stdout",
          "text": [
            "Enter x value5\n",
            "x= 5\n",
            "y= 10\n",
            "ZZZZZOOOOOOOOOO\n"
          ]
        }
      ]
    }
  ]
}